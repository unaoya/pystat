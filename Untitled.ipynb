{
 "cells": [
  {
   "cell_type": "markdown",
   "metadata": {},
   "source": [
    "$\\chi^2$検定について"
   ]
  },
  {
   "cell_type": "code",
   "execution_count": 12,
   "metadata": {},
   "outputs": [],
   "source": [
    "import numpy as np\n",
    "import matplotlib.pyplot as plt"
   ]
  },
  {
   "cell_type": "markdown",
   "metadata": {},
   "source": [
    "自由度1の$\\chi^2$分布。\n",
    "標準正規分布に従う変数$X$について、$X^2$が従う分布"
   ]
  },
  {
   "cell_type": "code",
   "execution_count": 23,
   "metadata": {},
   "outputs": [],
   "source": [
    "N = 10000"
   ]
  },
  {
   "cell_type": "code",
   "execution_count": 39,
   "metadata": {},
   "outputs": [
    {
     "data": {
      "text/plain": [
       "(array([6.161e+03, 1.661e+03, 8.640e+02, 5.260e+02, 3.210e+02, 1.730e+02,\n",
       "        1.050e+02, 5.400e+01, 5.300e+01, 3.400e+01, 1.700e+01, 1.000e+01,\n",
       "        5.000e+00, 6.000e+00, 0.000e+00, 2.000e+00, 3.000e+00, 1.000e+00,\n",
       "        2.000e+00, 2.000e+00]),\n",
       " array([1.97468728e-07, 7.44132689e-01, 1.48826518e+00, 2.23239767e+00,\n",
       "        2.97653016e+00, 3.72066265e+00, 4.46479515e+00, 5.20892764e+00,\n",
       "        5.95306013e+00, 6.69719262e+00, 7.44132511e+00, 8.18545760e+00,\n",
       "        8.92959009e+00, 9.67372258e+00, 1.04178551e+01, 1.11619876e+01,\n",
       "        1.19061201e+01, 1.26502525e+01, 1.33943850e+01, 1.41385175e+01,\n",
       "        1.48826500e+01]),\n",
       " <a list of 20 Patch objects>)"
      ]
     },
     "execution_count": 39,
     "metadata": {},
     "output_type": "execute_result"
    },
    {
     "data": {
      "image/png": "[encoded data removed]",
      "text/plain": [
       "<Figure size 432x288 with 1 Axes>"
      ]
     },
     "metadata": {},
     "output_type": "display_data"
    }
   ],
   "source": [
    "k = 1\n",
    "xsq = np.sum(np.random.randn(N, k) ** 2, axis = 1)\n",
    "plt.hist(xsq, bins = 20)"
   ]
  },
  {
   "cell_type": "code",
   "execution_count": 40,
   "metadata": {},
   "outputs": [
    {
     "data": {
      "text/plain": [
       "(array([3.941e+03, 2.378e+03, 1.466e+03, 8.590e+02, 5.050e+02, 3.330e+02,\n",
       "        1.970e+02, 1.250e+02, 7.200e+01, 5.600e+01, 2.100e+01, 2.300e+01,\n",
       "        7.000e+00, 6.000e+00, 3.000e+00, 2.000e+00, 2.000e+00, 1.000e+00,\n",
       "        0.000e+00, 3.000e+00]),\n",
       " array([3.98878017e-04, 9.98040983e-01, 1.99568309e+00, 2.99332519e+00,\n",
       "        3.99096730e+00, 4.98860940e+00, 5.98625151e+00, 6.98389362e+00,\n",
       "        7.98153572e+00, 8.97917783e+00, 9.97681993e+00, 1.09744620e+01,\n",
       "        1.19721041e+01, 1.29697462e+01, 1.39673884e+01, 1.49650305e+01,\n",
       "        1.59626726e+01, 1.69603147e+01, 1.79579568e+01, 1.89555989e+01,\n",
       "        1.99532410e+01]),\n",
       " <a list of 20 Patch objects>)"
      ]
     },
     "execution_count": 40,
     "metadata": {},
     "output_type": "execute_result"
    },
    {
     "data": {
      "image/png": "[encoded data removed]",
      "text/plain": [
       "<Figure size 432x288 with 1 Axes>"
      ]
     },
     "metadata": {},
     "output_type": "display_data"
    }
   ],
   "source": [
    "k = 2\n",
    "xsq = np.sum(np.random.randn(N, k) ** 2, axis = 1)\n",
    "plt.hist(xsq, bins = 20)"
   ]
  },
  {
   "cell_type": "code",
   "execution_count": 41,
   "metadata": {},
   "outputs": [
    {
     "data": {
      "text/plain": [
       "(array([2.112e+03, 2.348e+03, 1.860e+03, 1.266e+03, 8.900e+02, 5.280e+02,\n",
       "        3.540e+02, 2.720e+02, 1.430e+02, 8.000e+01, 5.400e+01, 3.700e+01,\n",
       "        2.500e+01, 1.600e+01, 6.000e+00, 3.000e+00, 2.000e+00, 3.000e+00,\n",
       "        0.000e+00, 1.000e+00]),\n",
       " array([3.33939258e-03, 1.03588520e+00, 2.06843100e+00, 3.10097680e+00,\n",
       "        4.13352261e+00, 5.16606841e+00, 6.19861421e+00, 7.23116002e+00,\n",
       "        8.26370582e+00, 9.29625162e+00, 1.03287974e+01, 1.13613432e+01,\n",
       "        1.23938890e+01, 1.34264348e+01, 1.44589806e+01, 1.54915264e+01,\n",
       "        1.65240722e+01, 1.75566181e+01, 1.85891639e+01, 1.96217097e+01,\n",
       "        2.06542555e+01]),\n",
       " <a list of 20 Patch objects>)"
      ]
     },
     "execution_count": 41,
     "metadata": {},
     "output_type": "execute_result"
    },
    {
     "data": {
      "image/png": "[encoded data removed]",
      "text/plain": [
       "<Figure size 432x288 with 1 Axes>"
      ]
     },
     "metadata": {},
     "output_type": "display_data"
    }
   ],
   "source": [
    "k = 3\n",
    "xsq = np.sum(np.random.randn(N, k) ** 2, axis = 1)\n",
    "plt.hist(xsq, bins = 20)"
   ]
  },
  {
   "cell_type": "code",
   "execution_count": 42,
   "metadata": {},
   "outputs": [
    {
     "data": {
      "text/plain": [
       "(array([1.298e+03, 2.188e+03, 1.965e+03, 1.458e+03, 1.065e+03, 7.460e+02,\n",
       "        5.060e+02, 2.810e+02, 1.940e+02, 1.270e+02, 7.100e+01, 3.900e+01,\n",
       "        3.500e+01, 1.100e+01, 8.000e+00, 4.000e+00, 2.000e+00, 1.000e+00,\n",
       "        0.000e+00, 1.000e+00]),\n",
       " array([ 0.05287847,  1.24853355,  2.44418863,  3.63984371,  4.83549879,\n",
       "         6.03115386,  7.22680894,  8.42246402,  9.6181191 , 10.81377418,\n",
       "        12.00942926, 13.20508434, 14.40073941, 15.59639449, 16.79204957,\n",
       "        17.98770465, 19.18335973, 20.37901481, 21.57466989, 22.77032496,\n",
       "        23.96598004]),\n",
       " <a list of 20 Patch objects>)"
      ]
     },
     "execution_count": 42,
     "metadata": {},
     "output_type": "execute_result"
    },
    {
     "data": {
      "image/png": "[encoded data removed]",
      "text/plain": [
       "<Figure size 432x288 with 1 Axes>"
      ]
     },
     "metadata": {},
     "output_type": "display_data"
    }
   ],
   "source": [
    "k = 4\n",
    "xsq = np.sum(np.random.randn(N, k) ** 2, axis = 1)\n",
    "plt.hist(xsq, bins = 20)"
   ]
  },
  {
   "cell_type": "code",
   "execution_count": 36,
   "metadata": {},
   "outputs": [
    {
     "data": {
      "text/plain": [
       "array([[5, 4, 4, 6, 2, 4, 2, 1, 1, 2],\n",
       "       [6, 6, 5, 6, 3, 2, 5, 2, 2, 2],\n",
       "       [2, 3, 4, 2, 1, 1, 3, 6, 3, 4],\n",
       "       [6, 4, 4, 4, 5, 1, 4, 5, 6, 2],\n",
       "       [6, 5, 6, 1, 1, 1, 6, 6, 5, 3],\n",
       "       [3, 1, 3, 4, 5, 3, 3, 5, 6, 4],\n",
       "       [2, 1, 2, 5, 2, 3, 1, 4, 5, 1],\n",
       "       [1, 5, 1, 6, 4, 4, 5, 6, 6, 6],\n",
       "       [1, 2, 1, 6, 6, 6, 1, 1, 2, 1],\n",
       "       [4, 5, 3, 6, 5, 4, 3, 4, 5, 1],\n",
       "       [4, 5, 2, 3, 1, 4, 6, 3, 6, 4],\n",
       "       [2, 1, 4, 2, 2, 3, 4, 3, 6, 3],\n",
       "       [1, 6, 3, 4, 1, 5, 6, 1, 6, 5],\n",
       "       [4, 6, 4, 6, 6, 3, 6, 2, 5, 6],\n",
       "       [2, 6, 6, 2, 3, 1, 3, 1, 5, 3],\n",
       "       [4, 4, 3, 1, 4, 3, 3, 6, 2, 3],\n",
       "       [2, 2, 1, 4, 6, 1, 6, 1, 1, 5],\n",
       "       [5, 3, 5, 3, 6, 2, 6, 3, 4, 5],\n",
       "       [1, 5, 3, 3, 4, 2, 4, 5, 1, 3],\n",
       "       [3, 2, 3, 6, 2, 3, 1, 6, 2, 3],\n",
       "       [2, 4, 6, 5, 3, 3, 2, 5, 2, 2],\n",
       "       [5, 5, 3, 3, 4, 5, 3, 5, 1, 1],\n",
       "       [2, 1, 1, 1, 3, 4, 2, 4, 3, 6],\n",
       "       [6, 1, 2, 4, 3, 1, 4, 2, 4, 4],\n",
       "       [6, 4, 1, 1, 5, 3, 2, 2, 6, 4],\n",
       "       [1, 2, 2, 1, 3, 3, 4, 4, 5, 6],\n",
       "       [3, 1, 5, 2, 1, 2, 6, 6, 6, 3],\n",
       "       [4, 1, 1, 2, 3, 6, 4, 3, 1, 1],\n",
       "       [5, 3, 5, 1, 2, 3, 6, 6, 5, 2],\n",
       "       [3, 6, 6, 4, 5, 5, 6, 5, 4, 6],\n",
       "       [4, 1, 3, 3, 2, 4, 2, 4, 2, 1],\n",
       "       [4, 1, 2, 3, 1, 6, 5, 6, 6, 5],\n",
       "       [1, 1, 3, 1, 1, 4, 5, 6, 4, 4],\n",
       "       [3, 4, 3, 4, 1, 3, 6, 6, 3, 5],\n",
       "       [5, 1, 6, 1, 2, 2, 1, 5, 1, 4],\n",
       "       [5, 1, 3, 3, 3, 2, 6, 2, 1, 3],\n",
       "       [5, 6, 6, 3, 3, 1, 2, 6, 1, 1],\n",
       "       [5, 6, 4, 5, 2, 5, 6, 2, 1, 6],\n",
       "       [3, 4, 3, 4, 3, 4, 2, 6, 2, 6],\n",
       "       [6, 2, 3, 6, 5, 6, 3, 5, 5, 4],\n",
       "       [4, 6, 5, 5, 5, 4, 4, 3, 3, 1],\n",
       "       [4, 6, 4, 1, 6, 2, 6, 5, 4, 4],\n",
       "       [1, 2, 1, 5, 3, 3, 4, 3, 1, 4],\n",
       "       [2, 1, 5, 6, 1, 4, 4, 6, 4, 1],\n",
       "       [4, 6, 1, 6, 3, 2, 3, 5, 2, 1],\n",
       "       [6, 4, 3, 5, 4, 4, 5, 4, 2, 3],\n",
       "       [6, 1, 5, 3, 4, 1, 6, 6, 4, 4],\n",
       "       [2, 5, 4, 3, 2, 1, 4, 2, 3, 2],\n",
       "       [5, 2, 6, 6, 6, 6, 2, 5, 4, 6],\n",
       "       [1, 5, 5, 2, 4, 6, 3, 1, 2, 1],\n",
       "       [3, 4, 3, 5, 1, 5, 3, 1, 3, 2],\n",
       "       [3, 3, 6, 3, 1, 1, 2, 5, 3, 6],\n",
       "       [5, 6, 5, 1, 3, 1, 4, 2, 4, 2],\n",
       "       [6, 1, 2, 4, 5, 1, 4, 3, 2, 4],\n",
       "       [6, 2, 1, 1, 2, 4, 5, 5, 3, 4],\n",
       "       [2, 6, 2, 2, 3, 3, 3, 1, 1, 6],\n",
       "       [3, 6, 5, 3, 3, 3, 5, 1, 4, 5],\n",
       "       [3, 2, 1, 4, 6, 4, 3, 1, 2, 5],\n",
       "       [3, 5, 3, 1, 5, 4, 1, 1, 1, 2],\n",
       "       [3, 1, 5, 1, 3, 5, 4, 6, 6, 2],\n",
       "       [6, 5, 4, 1, 3, 5, 3, 1, 1, 6],\n",
       "       [2, 4, 6, 6, 4, 4, 1, 4, 2, 1],\n",
       "       [5, 4, 3, 1, 2, 5, 5, 2, 5, 2],\n",
       "       [5, 1, 3, 4, 3, 5, 5, 6, 2, 5],\n",
       "       [1, 3, 5, 6, 1, 6, 4, 2, 1, 6],\n",
       "       [3, 3, 3, 3, 1, 6, 4, 2, 5, 1],\n",
       "       [5, 4, 3, 3, 2, 5, 4, 6, 3, 5],\n",
       "       [6, 4, 5, 4, 5, 6, 3, 5, 6, 5],\n",
       "       [3, 4, 4, 4, 1, 2, 5, 1, 5, 3],\n",
       "       [1, 4, 3, 3, 5, 5, 1, 1, 1, 6],\n",
       "       [1, 2, 2, 6, 5, 6, 5, 2, 4, 4],\n",
       "       [2, 5, 5, 2, 5, 1, 5, 6, 6, 6],\n",
       "       [4, 3, 4, 3, 4, 5, 4, 3, 5, 1],\n",
       "       [6, 4, 4, 2, 1, 4, 2, 2, 6, 2],\n",
       "       [1, 1, 3, 1, 1, 3, 6, 6, 1, 3],\n",
       "       [1, 4, 2, 3, 6, 1, 3, 1, 3, 2],\n",
       "       [5, 5, 1, 4, 2, 5, 2, 6, 5, 1],\n",
       "       [6, 6, 1, 1, 1, 4, 5, 6, 2, 3],\n",
       "       [2, 6, 3, 1, 3, 4, 4, 5, 1, 4],\n",
       "       [3, 6, 1, 4, 3, 3, 1, 6, 4, 1],\n",
       "       [3, 3, 6, 5, 5, 4, 2, 5, 4, 4],\n",
       "       [4, 5, 3, 5, 2, 5, 4, 3, 4, 4],\n",
       "       [2, 2, 4, 5, 4, 6, 1, 4, 6, 6],\n",
       "       [3, 2, 2, 3, 2, 3, 4, 5, 2, 6],\n",
       "       [6, 1, 4, 1, 5, 1, 6, 5, 4, 6],\n",
       "       [3, 6, 5, 2, 1, 4, 1, 2, 4, 5],\n",
       "       [6, 4, 4, 2, 4, 5, 1, 2, 4, 5],\n",
       "       [1, 2, 1, 3, 5, 1, 5, 1, 3, 2],\n",
       "       [3, 6, 6, 6, 4, 4, 3, 6, 1, 3],\n",
       "       [6, 2, 4, 3, 5, 2, 6, 1, 3, 3],\n",
       "       [5, 3, 5, 2, 1, 5, 1, 3, 3, 3],\n",
       "       [6, 4, 3, 4, 6, 3, 6, 5, 2, 2],\n",
       "       [5, 4, 1, 4, 3, 2, 3, 2, 4, 5],\n",
       "       [3, 4, 5, 5, 6, 5, 5, 2, 1, 4],\n",
       "       [2, 4, 1, 6, 2, 3, 2, 1, 1, 4],\n",
       "       [4, 6, 2, 6, 2, 6, 1, 4, 6, 3],\n",
       "       [1, 6, 5, 2, 4, 1, 6, 5, 2, 5],\n",
       "       [3, 4, 2, 5, 3, 1, 2, 1, 3, 4],\n",
       "       [3, 4, 1, 6, 4, 5, 3, 6, 6, 2],\n",
       "       [1, 1, 4, 1, 2, 2, 1, 2, 3, 6]])"
      ]
     },
     "execution_count": 36,
     "metadata": {},
     "output_type": "execute_result"
    }
   ],
   "source": [
    "np.random.randint(1,7,(100, 10))"
   ]
  },
  {
   "cell_type": "code",
   "execution_count": null,
   "metadata": {},
   "outputs": [],
   "source": []
  }
 ],
 "metadata": {
  "kernelspec": {
   "display_name": "Python 3",
   "language": "python",
   "name": "python3"
  },
  "language_info": {
   "codemirror_mode": {
    "name": "ipython",
    "version": 3
   },
   "file_extension": ".py",
   "mimetype": "text/x-python",
   "name": "python",
   "nbconvert_exporter": "python",
   "pygments_lexer": "ipython3",
   "version": "3.6.5"
  }
 },
 "nbformat": 4,
 "nbformat_minor": 2
}
