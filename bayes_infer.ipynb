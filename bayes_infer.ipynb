{
 "cells": [
  {
   "cell_type": "markdown",
   "metadata": {
    "collapsed": true
   },
   "source": [
    "ここでは\n",
    "- 連続型確率分布\n",
    "- 確率分布のパラメータ推定\n",
    "- 微分\n",
    "\n",
    "\n",
    "について扱います。"
   ]
  },
  {
   "cell_type": "markdown",
   "metadata": {},
   "source": [
    "# 連続型確率分布\n",
    "前回の説明では、確率分布とは起こりうる結果が$X=x_1,x_2,\\ldots,x_n$と有限通りの場合に\n",
    "$P(X=x_1),\\ldots,P(X=x_n)$として$0$以上の数をその和が$1$となるように分布させたものだった。\n",
    "\n",
    "しかし、起こりうると想定する結果が有限でないこともありうる。\n",
    "そのような時にどう考えればよいか。\n",
    "\n",
    "例えば、コインを$N$回投げ表の出た回数の割合$X=\\dfrac{k}{N}$の確率分布を考えよう。\n",
    "$N$を大きくしたときに思い切ってこれを曲線だと思うことにしよう。\n",
    "この場合には、$P(a\\leq X\\leq b)$はその曲線と$x$軸の間の面積と思うことができる。\n",
    "\n",
    "一般に、確率変数$X$が連続分布に従うとき、密度関数と呼ばれる関数$f(x)$があって$P(a\\leq X\\leq b)$は$f(x)$と$x$軸で囲まれた部分の面積として与えられる。\n",
    "この面積を表す記号として\n",
    "$$\n",
    "\\int^b_af(x)dx\n",
    "$$\n",
    "を定める。\n",
    "大体$\\int dx$と$\\sum$は同じようなもの。\n",
    "\n",
    " \n",
    "$f(x)=\\sqrt{1-x^2}$として\n",
    "$$\n",
    "\\int^1_{-1}f(x)dx\n",
    "$$\n",
    "を次のように計算してみよう。\n",
    "まず幅$d$を適当にとり、区間$[-1,1]$を長さ$d$ごとに分割した点を$x[i]$とする。\n",
    "$d\\times f(x[i])$が細長い長方形の面積を与えるので、$i$を動かして足し合わせれば、曲線が囲む面積が近似できる。"
   ]
  },
  {
   "cell_type": "code",
   "execution_count": 13,
   "metadata": {},
   "outputs": [
    {
     "data": {
      "text/plain": [
       "3.141487477002142"
      ]
     },
     "execution_count": 13,
     "metadata": {},
     "output_type": "execute_result"
    }
   ],
   "source": [
    "import math\n",
    "def f(x):\n",
    "    return math.sqrt(1-x**2)\n",
    "\n",
    "N = 1000\n",
    "d = 2/N\n",
    "2 * sum([d*f(-1+d*i) for i in range(N)])"
   ]
  },
  {
   "cell_type": "markdown",
   "metadata": {},
   "source": [
    "### 一様分布\n",
    "例えば$0$以上$1$以下の実数が一様に現れるような確率分布を考えたい。\n",
    "このとき特定の値を取る確率、例えば$P(x=0.5)$は$0$としないとおかしなことになる。\n",
    "$$\n",
    "f(x)=\n",
    "\\begin{cases}\n",
    "1 & 0\\leq x\\leq 1\\\\\n",
    "0 & x<0, 1<x\n",
    "\\end{cases}\n",
    "$$\n",
    "という密度関数を考えると、例えば$P(0.5\\leq x\\leq 0.6)=0.1$となる。\n",
    "\n",
    " \n",
    "$-1\\leq x\\leq 1$なる実数が一様に現れる確率分布を考える。\n",
    "これを与える密度関数$f(x)$はどのようなものになるか。\n",
    "またこのとき\n",
    " \n",
    "- $P(-0.2\\leq X\\leq 0.3)$\n",
    "- $P(-0.6\\leq X\\leq -0.2)$\n",
    "- $P(0.5\\leq X\\leq 2)$\n",
    " \n",
    "を求めよ。"
   ]
  },
  {
   "cell_type": "markdown",
   "metadata": {},
   "source": [
    "## 正規分布\n",
    "\n",
    "コインを$N$回投げる操作を考えた時$N$を大きくしていくと、\n",
    "数え上げのヒストグラムがどんどん細かくなる。\n",
    "思い切ってこれを曲線だと思うことにしよう。\n",
    "つまり、確率変数は今までのような飛び飛びの値ではなく、ぎっしり詰まった（ある範囲の）数すべてを取ることになる。\n",
    "したがって、特にある決まった値をとる確率$P(X=k)$は$0$になってしまうことに注意。\n",
    "\n",
    "連続分布の場合、$P(a\\leq X\\leq b)$のように範囲を指定して確率を計算する。\n",
    "またこの時、この確率の値は曲線と$x$軸で囲まれた部分の面積になる。\n",
    "\n",
    "二項分布の極限は正規分布になる。\n",
    "正規分布$N(\\mu,\\sigma)$\n",
    "の密度関数$f(x)$は\n",
    "$$\n",
    "f(x)=\\frac{1}{\\sqrt{2\\pi}\\sigma}\\exp(-\\frac{(x-\\mu)^2}{2\\sigma^2})\n",
    "$$\n",
    "という式で与えられる。\n",
    "これは$x=\\mu$がピークで左右対称。\n",
    "この式で表現される曲線の面積として、確率分布が与えられる。\n",
    "\n",
    "正規分布は誤差の分布として使われる。\n",
    "色々と良い性質を持ち、もっとも基本的な連続分布。\n",
    "正規分布についてはまた改めて取り上げます。\n",
    "\n",
    "#### 指数関数\n",
    "$f(x)=\\exp(x)$について。\n",
    "$$\n",
    "\\exp(x+y)=\\exp(x)\\exp(y)\\\\\n",
    "\\exp'(x)=\\exp(x)\\\\\n",
    "\\exp(0)=1\n",
    "$$\n",
    "をみたす関数を指数関数という。"
   ]
  },
  {
   "cell_type": "code",
   "execution_count": 4,
   "metadata": {},
   "outputs": [
    {
     "data": {
      "image/png": "[encoded data removed]",
      "text/plain": [
       "<Figure size 432x288 with 1 Axes>"
      ]
     },
     "metadata": {},
     "output_type": "display_data"
    }
   ],
   "source": [
    "#正規分布に従う乱数の生成\n",
    "import numpy as np\n",
    "\n",
    "mu, sigma, N=0, 1.0, 1000\n",
    "s=np.random.normal(mu,sigma,N)#標準正規分布に従う乱数をサンプル数100で生成\n",
    "\n",
    "import matplotlib.pyplot as plt\n",
    "count, bins, ignored=plt.hist(s,30,density=True)#上のサンプルのヒストグラム\n",
    "plt.plot(bins,1/(sigma*np.sqrt(2*np.pi))*np.exp(-(bins-mu)**2/(2*sigma**2)),\n",
    "         linewidth=2,color='r')#正規分布の確率密度関数\n",
    "plt.show()"
   ]
  },
  {
   "cell_type": "markdown",
   "metadata": {},
   "source": [
    "### 多変数の連続分布\n",
    "例えば二つの確率変数$X, Y$を同時に考えたい場合、二変数の密度関数$f(x,y)$を与えることで確率分布を記述する。このとき\n",
    "$$\n",
    "P(a\\leq X\\leq b, c\\leq Y\\leq d)=\\int^b_a\\int^d_cf(x,y)dxdy\n",
    "$$\n",
    "として確率分布が与えられる。\n",
    "\n",
    "$$\n",
    "f(x)=\\int^\\infty_{-\\infty}f(x,y)dy\n",
    "$$\n",
    "とすれば$X$の密度関数が得られる。\n",
    "これは離散分布の場合に\n",
    "$$\n",
    "P(X=x)=\\sum_iP(X=x, Y=y_i)\n",
    "$$\n",
    "としたのと同じこと。\n",
    "\n",
    "またこの場合に条件付き分布は密度関数\n",
    "$$\n",
    "f(y\\mid x)=\\frac{f(x,y)}{f(x)}\n",
    "$$\n",
    "として\n",
    "$$\n",
    "P(c\\leq Y\\leq d\\mid X=x)=\\int^d_cf(y\\mid x)dy\n",
    "$$\n",
    "により確率が与えられる。\n",
    "\n",
    "連続分布に対してもベイズの定理が成り立つ。\n",
    "$$\n",
    "f(y\\mid x)=\\frac{f(x\\mid y)f(y)}{\\int^\\infty_{-\\infty} f(x\\mid y)f(y)dy}\n",
    "$$"
   ]
  },
  {
   "cell_type": "markdown",
   "metadata": {},
   "source": [
    "### 二変数正規分布\n",
    "\n",
    "密度関数は\n",
    "$$\n",
    "f(x)=\\frac{1}{(\\sqrt{2\\pi})^m\\sqrt{\\det\\Sigma}}\\exp(-\\frac{1}{2}(x-\\mu)^T\\Sigma^{-1}(x-\\mu))\n",
    "$$"
   ]
  },
  {
   "cell_type": "code",
   "execution_count": 15,
   "metadata": {},
   "outputs": [
    {
     "data": {
      "image/png": "[encoded data removed]",
      "text/plain": [
       "<Figure size 432x288 with 1 Axes>"
      ]
     },
     "metadata": {},
     "output_type": "display_data"
    }
   ],
   "source": [
    "#二変数正規分布のサンプリング\n",
    "import numpy as np\n",
    "mean = [0, 0]\n",
    "cov = [[1, 2], [2, 10]]\n",
    "import matplotlib.pyplot as plt\n",
    "x, y = np.random.multivariate_normal(mean, cov, 100).T\n",
    "plt.scatter(x, y)\n",
    "plt.xlim(-10, 10)\n",
    "plt.ylim(-10, 10)\n",
    "plt.show()"
   ]
  },
  {
   "cell_type": "markdown",
   "metadata": {},
   "source": [
    "# パラメータの推定\n",
    "ここでは次のような問題を考える。\n",
    " \n",
    "コイン投げを100回やって表の出た回数が60回だった。\n",
    "このコインの表の出る確率$p$はいくつと考えられるか？\n",
    " \n",
    "\n",
    "次の二つの方法について以下で説明します。\n",
    " \n",
    "- 最尤推定\n",
    "- ベイズ推定とMAP推定\n",
    " \n",
    "\n",
    "最尤法は尤度関数と呼ばれる関数$L(p)$を設定し、その最大値を与える$p$を答える。\n",
    "\n",
    "ベイズ推定では$p$の確率分布を推定する。\n",
    "つまり最大になる$p$だけではなく、$p$の分布を決める。\n",
    "\n",
    "連続分布のベイズの定理\n",
    "$$\n",
    "p(\\theta\\mid x)=\\frac{p(x\\mid\\theta)p(\\theta)}{\\int p(x\\mid\\theta)p(\\theta)d\\theta}\n",
    "$$"
   ]
  },
  {
   "cell_type": "markdown",
   "metadata": {},
   "source": [
    "### 二項分布のパラメータ推定\n",
    "はじめにあげた例題を考える。\n",
    "$P(\\mbox{表})=p$として60回表が出る確率$L(p)$を計算すると、前に見たように\n",
    "$$\n",
    "L(p)=\n",
    "\\begin{pmatrix}\n",
    "100\\\\\n",
    "60\n",
    "\\end{pmatrix}\n",
    "p^{60}(1-p)^{40}\n",
    "$$\n",
    "となる。\n",
    "これが最も大きくなるのは$p$がいくつの時か？\n",
    "\n",
    "上の関数のグラフを書け。\n",
    "また最大値近くの$p$の値を幾つか計算して、いつ$L(p)$が最大になるのか予測せよ。\n",
    " \n",
    "このようにしてはじめの問いに答えるのが最尤法の考え方。\n",
    "まずは10回中6回表だったとしてみよう。"
   ]
  },
  {
   "cell_type": "code",
   "execution_count": 25,
   "metadata": {},
   "outputs": [
    {
     "name": "stdout",
     "output_type": "stream",
     "text": [
      "[6.561000e-07 2.621440e-05 1.750329e-04]\n"
     ]
    },
    {
     "data": {
      "text/plain": [
       "[<matplotlib.lines.Line2D at 0x11106d2b0>]"
      ]
     },
     "execution_count": 25,
     "metadata": {},
     "output_type": "execute_result"
    },
    {
     "data": {
      "image/png": "[encoded data removed]",
      "text/plain": [
       "<Figure size 432x288 with 1 Axes>"
      ]
     },
     "metadata": {},
     "output_type": "display_data"
    }
   ],
   "source": [
    "def L(p):\n",
    "    return p**6*(1-p)**4\n",
    "\n",
    "vL = np.vectorize(L)\n",
    "import matplotlib.pyplot as plt\n",
    "plt.plot(np.linspace(0,1,100), vL(np.linspace(0,1,100)))"
   ]
  },
  {
   "cell_type": "code",
   "execution_count": 26,
   "metadata": {},
   "outputs": [
    {
     "data": {
      "text/plain": [
       "[<matplotlib.lines.Line2D at 0x1110d48d0>]"
      ]
     },
     "execution_count": 26,
     "metadata": {},
     "output_type": "execute_result"
    },
    {
     "data": {
      "image/png": "[encoded data removed]",
      "text/plain": [
       "<Figure size 432x288 with 1 Axes>"
      ]
     },
     "metadata": {},
     "output_type": "display_data"
    }
   ],
   "source": [
    "def L(p):\n",
    "    return p**60*(1-p)**40\n",
    "\n",
    "import matplotlib.pyplot as plt\n",
    "\n",
    "vL = np.vectorize(L)\n",
    "import matplotlib.pyplot as plt\n",
    "plt.plot(np.linspace(0,1,100), vL(np.linspace(0,1,100)))"
   ]
  },
  {
   "cell_type": "markdown",
   "metadata": {},
   "source": [
    "例えばコインを5回投げて0回表だったとして、上の方法で表の出る確率$p$を最尤法で推定しよう。\n",
    "$$\n",
    "L(p)=\n",
    "\\begin{pmatrix}\n",
    "5\\\\\n",
    "0\n",
    "\\end{pmatrix}\n",
    "p^0(1-p)^5\n",
    "$$\n",
    "であり、これが最大になるのは$p=0$の時。"
   ]
  },
  {
   "cell_type": "markdown",
   "metadata": {},
   "source": [
    "### MAP推定とベイズ推定\n",
    "\n",
    "ここでベイズ推定の考え方を導入する。\n",
    "考え方としては表がk回出たという条件のもとで$p$がいくつになる確率が高いか、\n",
    "あるいは$p$が満たすべき確率分布（前の記号を使えば$P(p\\mid k)$のようなもの）を求める。\n",
    "「確率の確率」だから紛らわしいが、単に身長が幾つになる確率、とか体重が幾つになる確率、のようなものだと思えばよい。\n",
    "\n",
    "$p=0$から$p=1$まで$0.01$刻みで101枚のコインがあって、どれか？という問題はベイズの定理を使える。\n",
    "考え方としては表がk回出たという条件のもとで$p$がいくつになる確率が高いか、\n",
    "あるいは$p$が満たすべき確率分布（前の記号を使えば$P(p\\mid k)$のようなもの）を求める。\n",
    "「確率の確率」だから紛らわしいが、単に身長が幾つになる確率、とか体重が幾つになる確率、のようなものだと思えばよい。\n",
    "\n",
    "これはベイズの定理を使えば$p(k\\mid p)p(p)$を計算すればよく、\n",
    "$p(k\\mid p)=L(p)$は上で計算した通り。\n",
    "\n",
    "事前分布$p(p)$をいろいろ設定して考えよう。\n",
    "例えば0から1までの一様分布にしてみると、実は最尤法と何も変わらない。\n",
    "\n",
    "事前分布としてベータ分布を使う。\n",
    "$$\n",
    "Be(\\alpha,\\beta)(x)=\\frac{x^{\\alpha-1}(1-x)^{\\beta-1}}{\\int^1_0x^{\\alpha-1}(1-x)^{\\beta-1}dx}\n",
    "=\\frac{x^{\\alpha-1}(1-x)^{\\beta-1}}{C}\n",
    "$$\n",
    "を$x$の関数、$\\alpha, \\beta$は新たなパラメータだと思うことにする。\n",
    "この最大値は$x=\\dfrac{\\alpha-1}{\\alpha+\\beta-2}$の時（ただし$\\alpha,\\beta>1$とする）で、期待値は$\\dfrac{\\alpha}{\\alpha+\\beta}$である。\n",
    "この分母は面積を1にするため（確率分布の条件）の定数なので、今回はあまり気にしないでよい。\n",
    "この$x$の関数を密度関数に持つ確率分布をベータ分布という。\n",
    "例えば$Be(1,1)$は一様分布である。\n",
    "\n",
    "$p(p)=Be(\\alpha,\\beta)(p)$とした時の事後分布は\n",
    "$p(\\theta\\mid k)=p^{\\alpha-1}(1-p)^{\\beta-1}\\times p^k(1-p)^{N-k}=p^{\\alpha+k-1}(1-p)^{\\beta+N-k-1}$\n",
    "となるので、また（定数倍を無視すれば）ベータ分布になる。\n",
    "\n",
    " \n",
    "同じ事前分布$Be(\\alpha,\\beta)$を与えた時に、1回だけコインを投げた時と、100回投げた時で、事後分布への影響はどのように違うか。\n",
    "また事前分布の違いによる影響はコインを投げた回数とどう関係があるか。\n",
    " \n",
    "\n",
    "最尤法とMAP推定/ベイズ推定の違い。\n",
    "どちらも同じ$p$が最適としても、分布の違いにより次の更新への影響が違う。\n",
    "つまり、最尤法だと「今までの知識」が役に立たない。\n",
    "一方で事前分布をどう設定するかというところで恣意性が出る。\n",
    "\n",
    "MAPとベイズ推測の違い！ベイズ推測は事後確率出してからパラメータで積分してxの分布を予測するもの。\n",
    "\n",
    "今の例で、二項分布とベータ分布のような関係にある確率分布のことを自然な共役分布という。"
   ]
  },
  {
   "cell_type": "markdown",
   "metadata": {},
   "source": [
    "### 多項分布のパラメータ推定\n",
    "上の問題を多項分布にして考えてみる。\n",
    "サイコロを$K$回振った結果$i=1,2,3,4,5,6$の目が$k_i$回出た。\n",
    "この時の$i$出る確率をそれぞれ$p=(p_i)$とし、$L(p)=L(p_1,p_2,p_3,p_4,p_5,p_6)$を計算しよう。\n",
    "尤度関数は\n",
    "$$\n",
    "L(p)=p(k\\mid p)=\\frac{N!}{\\prod_i(k_i!)}\\prod_ip_i^{k_i}\n",
    "$$\n",
    "となる。\n",
    "\n",
    "まずは最尤法でやろう。\n",
    "尤度関数を最大にする$p$は、この場合$p_i=\\dfrac{k_i}{K}$となることがわかる。\n",
    "直感的にはなりそうなので納得する。\n",
    "\n",
    "事前分布を設定してベイズ推定しよう。\n",
    "今度はベータ分布ではなくディリクレ分布を使う。\n",
    "ベータ分布の多変数版と思ってよい。\n",
    "$$\n",
    "Dir(\\alpha_1,\\ldots,\\alpha_6)(x_1,\\ldots,x_6)=\\frac{\\Gamma(A)}{\\Gamma(\\alpha_1)\\cdots\\Gamma(\\alpha_k)}\\prod_ix_i^{\\alpha_i-1}\n",
    "$$\n",
    "にしておく。変なのがくっついているけど、これも面積を1にするための定数。\n",
    "$\\alpha_i$が新たなパラメータで$x$の関数だと思うことにする。\n",
    "\n",
    "事前分布をディリクレ分布とした時、事後分布はどのようになるか計算せよ\n",
    "\n",
    "サイコロじゃなくて、1から$N$までの数字が書いてあるボールがたくさん箱に入っているとする。\n",
    "同じ数字がたくさんあってもよいとする。\n",
    "$K$回ボールを取り出して、$i$番のボールが$k_i$回出たという観測を元に、箱の中のボールの分布$p_i$を調べたい。\n",
    "$N$がすごく大きくて$K$が小さい場合、ほとんどの$i$が$0$回出現。\n",
    "最尤推定すると、これらの確率が0ということになってしまう。\n",
    "\n",
    "これを回避するために事前分布を設定する。\n",
    "事前分布としてディリクレ分布$Dir(\\alpha_1,\\ldots,\\alpha_N)(p_1,\\ldots,p_N)$を採用すると、\n",
    "尤度関数が\n",
    "$$\n",
    "L(p)=p(k\\mid p)=\\frac{N!}{\\prod_i(k_i!)}\\prod_ip_i^{k_i}\n",
    "$$\n",
    "となることから、\n",
    "事後分布は\n",
    "$$\n",
    "p(p\\mid k)=L(p)Dir(\\alpha)(p)=C\\prod_{i=1}^Np_i^{\\alpha_i+k_i-1}\n",
    "$$\n",
    "となる。\n",
    "従って、これもまたディリクレ分布に従う。\n",
    "\n",
    "この関数の最大値は\n",
    "$$\n",
    "p_i=\\dfrac{k_i+\\alpha_i-1}{K+A-N}\n",
    "$$\n",
    "の時に取る。ここで$A$は$\\alpha_i$の和\n",
    "\n",
    "これを特に$\\alpha$を全て2にした時の最大値が、いわゆるラプラススムージング。\n",
    "推定値が$\\dfrac{k_i+1}{K+N}$となる。\n",
    "事前情報がある場合は一様でない事前分布を設定しても良い。"
   ]
  },
  {
   "cell_type": "code",
   "execution_count": null,
   "metadata": {
    "collapsed": true
   },
   "outputs": [],
   "source": []
  }
 ],
 "metadata": {
  "kernelspec": {
   "display_name": "Python 3",
   "language": "python",
   "name": "python3"
  },
  "language_info": {
   "codemirror_mode": {
    "name": "ipython",
    "version": 3
   },
   "file_extension": ".py",
   "mimetype": "text/x-python",
   "name": "python",
   "nbconvert_exporter": "python",
   "pygments_lexer": "ipython3",
   "version": "3.6.5"
  }
 },
 "nbformat": 4,
 "nbformat_minor": 1
}
