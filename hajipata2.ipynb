{
 "cells": [
  {
   "cell_type": "markdown",
   "metadata": {},
   "source": [
    "# はじめてのパターン認識２章"
   ]
  },
  {
   "cell_type": "markdown",
   "metadata": {},
   "source": [
    "## 識別規則\n",
    "\n",
    "識別規則とは入力データ$x$からクラス$C_i\\in\\Omega=\\{C_1,\\ldots,C_K\\}$への写像\n",
    "\n",
    "- 事後確率による方法。ベイズ最大事後確率法\n",
    "- 距離による方法、最近傍法kNN\n",
    "- 関数値による方法、パーセプトロン、SVM\n",
    "- 決定木"
   ]
  },
  {
   "cell_type": "markdown",
   "metadata": {},
   "source": [
    "## 汎化能力\n",
    "\n",
    "真の誤り率$\\epsilon(p,p)$とは真の分布$p$に従う学習データを用いて識別規則を作り、真の分布に従うテストデータによりテストした誤り率。\n",
    "\n",
    "再代入誤り率$\\epsilon(p_L,p_L)$とは、サンプルの分布$p_L$を学習データとし、テストにも同じデータを用いて測定した誤り率。"
   ]
  },
  {
   "cell_type": "markdown",
   "metadata": {},
   "source": [
    "### ホールドアウト法\n",
    "\n",
    "データセットを分割し一方を$p_L$としもう一方を$p_T$とする。ホールドアウト誤り率$\\epsilon(p_L,p_T)$とおいう。これについて\n",
    "$$\n",
    "E_{D_L}(\\epsilon(p_L,p_L))\\leq\\epsilon(p,p)\\leq E_{D_T}(\\epsilon(p_L,p_T))\n",
    "$$\n",
    "となる。"
   ]
  },
  {
   "cell_type": "code",
   "execution_count": 38,
   "metadata": {},
   "outputs": [
    {
     "name": "stdout",
     "output_type": "stream",
     "text": [
      "0.28489999999999993\n",
      "0.12959999999999988\n"
     ]
    }
   ],
   "source": [
    "# ホールドアウト法の実験\n",
    "# train/testの割合を変えるとどうなるか？\n",
    "\n",
    "import numpy as np\n",
    "from sklearn.model_selection import train_test_split\n",
    "from sklearn.linear_model import LogisticRegression\n",
    "\n",
    "N = 100\n",
    "errs = list()\n",
    "\n",
    "for i in range(N):\n",
    "    X = np.concatenate((np.random.normal(loc = 0, scale = 1, size = 100),\n",
    "                        np.random.normal(loc = 2, scale = 1, size = 100)))\n",
    "    y = np.concatenate((np.zeros(100), np.ones(100)))\n",
    "\n",
    "    clf = LogisticRegression(solver = 'lbfgs').fit(X.reshape((-1,1)), y)\n",
    "    errs.append(1 - clf.score(X.reshape((-1,1)), y))\n",
    "\n",
    "\n",
    "X = np.concatenate((np.random.normal(loc = 0, scale = 1, size = 100),\n",
    "                    np.random.normal(loc = 2, scale = 1, size = 100)))\n",
    "y = np.concatenate((np.zeros(100), np.ones(100)))\n",
    "N = 100\n",
    "errsh = list()\n",
    "\n",
    "for i in range(N):\n",
    "    clf = LogisticRegression(solver = 'lbfgs').fit(X.reshape((-1,1)), y)\n",
    "    errs.append(1 - clf.score(X.reshape((-1,1)), y))\n",
    "    \n",
    "    X_train, X_test, y_train, y_test = train_test_split(X, y)\n",
    "\n",
    "    clf = LogisticRegression(solver = 'lbfgs').fit(X_train.reshape((-1,1)), y_train)\n",
    "    errsh.append(1 - clf.score(X_test.reshape((-1,1)), y_test))\n",
    "\n",
    "print(sum(errs) / N)\n",
    "print(sum(errsh) / N)\n",
    "\n",
    "#データセットは固定するか？それもとりなおすか？"
   ]
  },
  {
   "cell_type": "markdown",
   "metadata": {},
   "source": [
    "### 交差確認法（Closs Validation）"
   ]
  },
  {
   "cell_type": "code",
   "execution_count": 2,
   "metadata": {},
   "outputs": [],
   "source": [
    "# 分割数kに応じてどう変わるか調べる\n",
    "\n",
    "# データセットは上と同様に作り、ロジスティックで分類する\n",
    "# 分割数ごとに、訓練誤差の平均と分散をプロットしてみる"
   ]
  },
  {
   "cell_type": "markdown",
   "metadata": {},
   "source": [
    "### 一つ抜き交差確認（LOOCV）"
   ]
  },
  {
   "cell_type": "markdown",
   "metadata": {},
   "source": [
    "### ブートストラップ法"
   ]
  },
  {
   "cell_type": "code",
   "execution_count": null,
   "metadata": {},
   "outputs": [],
   "source": [
    "# ブートストラップサンプルによる真の誤り率の推定"
   ]
  },
  {
   "cell_type": "markdown",
   "metadata": {},
   "source": [
    "## バイアスバリアンス分解"
   ]
  },
  {
   "cell_type": "code",
   "execution_count": 25,
   "metadata": {},
   "outputs": [
    {
     "data": {
      "image/png": "[encoded data removed]",
      "text/plain": [
       "<Figure size 432x288 with 1 Axes>"
      ]
     },
     "metadata": {
      "needs_background": "light"
     },
     "output_type": "display_data"
    }
   ],
   "source": [
    "# テキストにある多項式回帰のバイアスとバリアンス\n",
    "# 例題2.3\n",
    "# 各次数ごとにバイアス項とバリアンス項の平均をサンプリングして計算せよ（例題2.3を参考に）\n",
    "\n",
    "import matplotlib.pyplot as plt\n",
    "\n",
    "x = np.linspace(0,1,11)\n",
    "noize = np.random.normal(loc = 0, scale = 0.05, size = 11)\n",
    "y = 0.5 + 0.4 * np.sin(2 * np.pi * x) + noize\n",
    "\n",
    "plt.scatter(x, y)\n",
    "plt.show()"
   ]
  },
  {
   "cell_type": "code",
   "execution_count": null,
   "metadata": {},
   "outputs": [],
   "source": []
  }
 ],
 "metadata": {
  "kernelspec": {
   "display_name": "Python 3",
   "language": "python",
   "name": "python3"
  },
  "language_info": {
   "codemirror_mode": {
    "name": "ipython",
    "version": 3
   },
   "file_extension": ".py",
   "mimetype": "text/x-python",
   "name": "python",
   "nbconvert_exporter": "python",
   "pygments_lexer": "ipython3",
   "version": "3.7.1"
  }
 },
 "nbformat": 4,
 "nbformat_minor": 2
}
