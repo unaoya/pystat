{
 "cells": [
  {
   "cell_type": "markdown",
   "metadata": {},
   "source": [
    "# 確率モデルと識別関数"
   ]
  },
  {
   "cell_type": "markdown",
   "metadata": {},
   "source": [
    "## 平均ベクトルと共分散行列"
   ]
  },
  {
   "cell_type": "markdown",
   "metadata": {},
   "source": [
    "## 標準化\n",
    "\n",
    "各変数について、平均$0$で分散$1$になるように線形に変換する。\n",
    "\n",
    "共分散及び相関係数はどのようになるか？"
   ]
  },
  {
   "cell_type": "code",
   "execution_count": 1,
   "metadata": {},
   "outputs": [],
   "source": [
    "# numpyを使った実装"
   ]
  },
  {
   "cell_type": "markdown",
   "metadata": {},
   "source": [
    "## 無相関化\n",
    "分散共分散行列の固有値問題と対角化\n",
    "\n",
    "分散共分散行列は対称行列なので、直交行列により対角化可能\n",
    "\n",
    "$z=Ax$と変換すると、分散共分散行列がどう変わるか？"
   ]
  },
  {
   "cell_type": "code",
   "execution_count": null,
   "metadata": {},
   "outputs": [],
   "source": [
    "# irisデータで実験"
   ]
  },
  {
   "cell_type": "markdown",
   "metadata": {},
   "source": [
    "## 確率モデル\n",
    "\n",
    "データの分布が多変数正規分布の混合であると仮定する。\n",
    "\n",
    "マハラノビス距離\n",
    "$\\mu=0$で$\\Sigma$を変えたときに、密度関数の等高線、サンプリング結果がどう変わるか？\n",
    "\n",
    "識別境界の計算\n",
    "2クラスの平均、分散を引数に取り、識別境界を図示する。\n",
    "\n",
    "等分散の場合に線形識別になること。"
   ]
  },
  {
   "cell_type": "code",
   "execution_count": null,
   "metadata": {},
   "outputs": [],
   "source": [
    "#実行例4.4\n",
    "\n",
    "#データのプロット\n",
    "\n",
    "#二次識別と線形識別曲線のプロット、閾値を動かす\n",
    "\n",
    "#再代入誤り率の計算\n",
    "\n",
    "#テスト誤り率の計算\n",
    "\n",
    "#ROC曲線の計算\n",
    "\n",
    "#重み付きの識別"
   ]
  }
 ],
 "metadata": {
  "kernelspec": {
   "display_name": "Python 3",
   "language": "python",
   "name": "python3"
  },
  "language_info": {
   "codemirror_mode": {
    "name": "ipython",
    "version": 3
   },
   "file_extension": ".py",
   "mimetype": "text/x-python",
   "name": "python",
   "nbconvert_exporter": "python",
   "pygments_lexer": "ipython3",
   "version": "3.7.1"
  }
 },
 "nbformat": 4,
 "nbformat_minor": 2
}
