{
 "cells": [
  {
   "cell_type": "code",
   "execution_count": 41,
   "metadata": {},
   "outputs": [
    {
     "name": "stdout",
     "output_type": "stream",
     "text": [
      "[[ 4  4  5 ...  9  8  4]\n",
      " [ 6  2  7 ...  5  2  3]\n",
      " [ 2  5  5 ...  4  6  5]\n",
      " ...\n",
      " [ 3  6 11 ...  9  7  4]\n",
      " [ 3  8  5 ...  9  4  8]\n",
      " [ 6  9  2 ...  3  8  5]]\n"
     ]
    }
   ],
   "source": [
    "#中心極限定理\n",
    "import numpy as np\n",
    "\n",
    "n = 100 #サンプルサイズ\n",
    "N = 10000 #サンプル数\n",
    "x = np.random.poisson(5, (N, n)) #poisson\n",
    "print(x)"
   ]
  },
  {
   "cell_type": "code",
   "execution_count": 42,
   "metadata": {},
   "outputs": [
    {
     "data": {
      "text/plain": [
       "array([5.19, 5.07, 4.89, ..., 5.07, 5.35, 4.99])"
      ]
     },
     "execution_count": 42,
     "metadata": {},
     "output_type": "execute_result"
    }
   ],
   "source": [
    "x_bar = np.mean(x, axis = 1)\n",
    "x_bar"
   ]
  },
  {
   "cell_type": "code",
   "execution_count": 43,
   "metadata": {},
   "outputs": [
    {
     "data": {
      "image/png": "[encoded data removed]",
      "text/plain": [
       "<Figure size 432x288 with 1 Axes>"
      ]
     },
     "metadata": {},
     "output_type": "display_data"
    }
   ],
   "source": [
    "import matplotlib.pyplot as plt\n",
    "plt.hist(x_bar)\n",
    "plt.show()"
   ]
  },
  {
   "cell_type": "markdown",
   "metadata": {},
   "source": [
    "# $t$検定\n",
    "\n",
    "## $t$分布\n",
    "\n",
    "$x_1,\\ldots,x_n$が平均$\\mu$、標準偏差$\\sigma$の正規分布に独立に従うとする。\n",
    "不偏分散\n",
    "$$\n",
    "s = \\frac{1}{n-1}\\sum_{i=1}^n(x_i-\\overline{x})^2\n",
    "$$\n",
    "とし\n",
    "$$\n",
    "t = \\frac{\\overline{x}-\\mu}{s/\\sqrt{n}}\n",
    "$$\n",
    "は$t$分布と呼ばれる確率分布に従う。（$n$が大きければ正規分布に近づく）"
   ]
  },
  {
   "cell_type": "markdown",
   "metadata": {},
   "source": [
    "## $t$の気持ち\n",
    "\n",
    "平均$\\mu$で標準偏差$\\sigma$の正規分布に従う独立なサンプル$x_1, \\ldots, x_n$の標本平均$\\bar{x}$は、また正規分布に従う。（正規分布の再生性）\n",
    "\n",
    "その平均と分散は\n",
    "$$\n",
    "E(\\bar{x})\n",
    "$$\n",
    "\n",
    "$$\n",
    "Var(\\bar{x})\n",
    "$$\n",
    "\n",
    "となる。\n",
    "\n",
    "従って、\n",
    "$$\n",
    "z = \\frac{\\overline{x}-\\mu}{\\sigma/\\sqrt{n}}\n",
    "$$\n",
    "は標準正規分布に従う。\n",
    "\n",
    "上の$t$は母標準偏差$\\sigma$を標本の標準偏差$s$に置き換えたものである。"
   ]
  },
  {
   "cell_type": "code",
   "execution_count": 2,
   "metadata": {},
   "outputs": [],
   "source": [
    "import math \n",
    "import numpy as np\n",
    "import matplotlib.pyplot as plt"
   ]
  },
  {
   "cell_type": "code",
   "execution_count": 19,
   "metadata": {},
   "outputs": [],
   "source": [
    "n = 10 #サンプルサイズ\n",
    "mu = 0 #母平均\n",
    "sigma = 1 #母標準偏差\n",
    "\n",
    "N = 10000 #サンプル数\n",
    "\n",
    "sample = np.random.randn(N, n)\n",
    "x_bar = np.mean(sample, axis = 1)\n",
    "s = np.sum((sample - x_bar.reshape(N,1)) ** 2, axis = 1) / (n - 1)\n",
    "t = (x_bar - mu) / (s / math.sqrt(n))"
   ]
  },
  {
   "cell_type": "code",
   "execution_count": 20,
   "metadata": {},
   "outputs": [
    {
     "data": {
      "image/png": "[encoded data removed]",
      "text/plain": [
       "<Figure size 432x288 with 1 Axes>"
      ]
     },
     "metadata": {},
     "output_type": "display_data"
    }
   ],
   "source": [
    "# https://matplotlib.org/gallery/statistics/histogram_features.html\n",
    "fig, ax = plt.subplots()\n",
    "\n",
    "num_bins = 100\n",
    "\n",
    "# the histogram of the data\n",
    "n, bins, patches = ax.hist(t, num_bins, density=1)\n",
    "\n",
    "# add a 'best fit' line\n",
    "y = ((1 / (np.sqrt(2 * np.pi) * sigma) *\n",
    "     np.exp(-0.5 * (1 / sigma * (bins - mu))**2)))\n",
    "ax.plot(bins, y, '--')\n",
    "\n",
    "#fig.tight_layout()\n",
    "plt.show()"
   ]
  },
  {
   "cell_type": "markdown",
   "metadata": {},
   "source": [
    "## 検定の考え方\n",
    "\n",
    "帰無仮説を仮定する。\n",
    "帰無仮説の下で、ある統計検定量はある確率分布に従うことがわかっている。\n",
    "\n",
    "この量がある確率より低い確率でしか起こり得ない値になるとすると、帰無仮説の妥当性が低いと判断できる。"
   ]
  },
  {
   "cell_type": "markdown",
   "metadata": {},
   "source": [
    "## t検定の考え方\n",
    "\n",
    "データ$x_1, \\ldots, x_n$が与えられたとき、その母平均が$0$であるかどうかを知りたいとしよう。\n",
    "\n",
    "このデータが正規分布から独立に発生していると仮定する。\n",
    "すると、上の式で計算した$t$の値は$t$分布に従っているはずである。\n",
    "\n",
    "これを計算することで、確率的に判断を下そうというのが仮説検定の考え方。"
   ]
  },
  {
   "cell_type": "markdown",
   "metadata": {},
   "source": [
    "## 手順\n",
    "\n",
    "まず有意水準$\\alpha$を決める。\n",
    "多くは$\\alpha = 0.05$だが、$0.01$や$0.1$も使われる。\n",
    "\n",
    "あとで述べるように、これが検定で誤った結論を導く確率が決まる。\n",
    "\n",
    "帰無仮説$H_0:\\mu = \\mu_0$\n",
    "\n",
    "対立仮説の設定によって、両側検定と片側検定がある。\n",
    "両側検定の対立仮説$H_1:\\mu \\neq \\mu_0$\n",
    "片側検定の対立仮説$H_1:\\mu < \\mu_0$または$\\mu > \\mu_0$\n",
    "\n",
    "与えられた標本を元に、$t$統計量を計算する。\n",
    "\n",
    "$t$分布に従って$p$値を計算する。\n",
    "$t_\\alpha$を両側検定なら$P(\\lvert t\\rvert>t_\\alpha)=0.05$とし、片側検定なら$P(t<t_\\alpha)=0.05$または$P(t>t_\\alpha)=0.05$となるよう定める。\n",
    "$p$が$\\alpha$より小さければ帰無仮説棄却、そうでなければ対立仮説棄却。"
   ]
  },
  {
   "cell_type": "markdown",
   "metadata": {},
   "source": [
    "## 第1種の誤りと第2種の誤り\n",
    "\n",
    "第1種の誤りとは、帰無仮説$H_0$が正しいのに対立仮説$H_1$を採用してしまう誤りのこと。\n",
    "これが起こる確率は有意水準と一致する。\n",
    "\n",
    "第2種の誤りとは、対立仮説$H_1$が正しいのに帰無仮説$H_0$を採用してしまう誤りのこと。\n",
    "これが起こる確率を検出力という。"
   ]
  },
  {
   "cell_type": "markdown",
   "metadata": {},
   "source": [
    "二群の母平均の比較\n",
    "\n",
    "二群に対応がある場合と対応がない場合。\n",
    "\n",
    "対応がない場合に、二群の分散が等しい場合と等しくない場合で若干計算が異なる。"
   ]
  },
  {
   "cell_type": "markdown",
   "metadata": {},
   "source": [
    "irisデータで種類毎の母平均の比較を行おう。\n",
    "\n",
    "まずはデータの可視化から。\n",
    "正規性などの確認。"
   ]
  },
  {
   "cell_type": "code",
   "execution_count": 29,
   "metadata": {},
   "outputs": [
    {
     "data": {
      "text/plain": [
       "array([6.3, 5.8, 7.1, 6.3, 6.5, 7.6, 4.9, 7.3, 6.7, 7.2, 6.5, 6.4, 6.8,\n",
       "       5.7, 5.8, 6.4, 6.5, 7.7, 7.7, 6. , 6.9, 5.6, 7.7, 6.3, 6.7, 7.2,\n",
       "       6.2, 6.1, 6.4, 7.2, 7.4, 7.9, 6.4, 6.3, 6.1, 7.7, 6.3, 6.4, 6. ,\n",
       "       6.9, 6.7, 6.9, 5.8, 6.8, 6.7, 6.7, 6.3, 6.5, 6.2, 5.9])"
      ]
     },
     "execution_count": 29,
     "metadata": {},
     "output_type": "execute_result"
    }
   ],
   "source": [
    "from sklearn.datasets import load_iris\n",
    "data = load_iris()\n",
    "\n",
    "data.data[data.target == 0,0]\n",
    "data.data[data.target == 1,0]\n",
    "data.data[data.target == 2,0]"
   ]
  },
  {
   "cell_type": "markdown",
   "metadata": {},
   "source": [
    "実際には多クラス間の母平均の比較検定は行なってはいけない。\n",
    "代わりに分散分析や多重比較という手法を用いる。"
   ]
  },
  {
   "cell_type": "markdown",
   "metadata": {},
   "source": [
    "## $\\chi^2$検定"
   ]
  },
  {
   "cell_type": "markdown",
   "metadata": {},
   "source": [
    "自由度1の$\\chi^2$分布。\n",
    "標準正規分布に従う変数$X$について、$X^2$が従う分布"
   ]
  },
  {
   "cell_type": "code",
   "execution_count": 23,
   "metadata": {},
   "outputs": [],
   "source": [
    "N = 10000"
   ]
  },
  {
   "cell_type": "code",
   "execution_count": 39,
   "metadata": {},
   "outputs": [
    {
     "data": {
      "text/plain": [
       "(array([6.161e+03, 1.661e+03, 8.640e+02, 5.260e+02, 3.210e+02, 1.730e+02,\n",
       "        1.050e+02, 5.400e+01, 5.300e+01, 3.400e+01, 1.700e+01, 1.000e+01,\n",
       "        5.000e+00, 6.000e+00, 0.000e+00, 2.000e+00, 3.000e+00, 1.000e+00,\n",
       "        2.000e+00, 2.000e+00]),\n",
       " array([1.97468728e-07, 7.44132689e-01, 1.48826518e+00, 2.23239767e+00,\n",
       "        2.97653016e+00, 3.72066265e+00, 4.46479515e+00, 5.20892764e+00,\n",
       "        5.95306013e+00, 6.69719262e+00, 7.44132511e+00, 8.18545760e+00,\n",
       "        8.92959009e+00, 9.67372258e+00, 1.04178551e+01, 1.11619876e+01,\n",
       "        1.19061201e+01, 1.26502525e+01, 1.33943850e+01, 1.41385175e+01,\n",
       "        1.48826500e+01]),\n",
       " <a list of 20 Patch objects>)"
      ]
     },
     "execution_count": 39,
     "metadata": {},
     "output_type": "execute_result"
    },
    {
     "data": {
      "image/png": "[encoded data removed]",
      "text/plain": [
       "<Figure size 432x288 with 1 Axes>"
      ]
     },
     "metadata": {},
     "output_type": "display_data"
    }
   ],
   "source": [
    "k = 1\n",
    "xsq = np.sum(np.random.randn(N, k) ** 2, axis = 1)\n",
    "plt.hist(xsq, bins = 20)"
   ]
  },
  {
   "cell_type": "code",
   "execution_count": 40,
   "metadata": {},
   "outputs": [
    {
     "data": {
      "text/plain": [
       "(array([3.941e+03, 2.378e+03, 1.466e+03, 8.590e+02, 5.050e+02, 3.330e+02,\n",
       "        1.970e+02, 1.250e+02, 7.200e+01, 5.600e+01, 2.100e+01, 2.300e+01,\n",
       "        7.000e+00, 6.000e+00, 3.000e+00, 2.000e+00, 2.000e+00, 1.000e+00,\n",
       "        0.000e+00, 3.000e+00]),\n",
       " array([3.98878017e-04, 9.98040983e-01, 1.99568309e+00, 2.99332519e+00,\n",
       "        3.99096730e+00, 4.98860940e+00, 5.98625151e+00, 6.98389362e+00,\n",
       "        7.98153572e+00, 8.97917783e+00, 9.97681993e+00, 1.09744620e+01,\n",
       "        1.19721041e+01, 1.29697462e+01, 1.39673884e+01, 1.49650305e+01,\n",
       "        1.59626726e+01, 1.69603147e+01, 1.79579568e+01, 1.89555989e+01,\n",
       "        1.99532410e+01]),\n",
       " <a list of 20 Patch objects>)"
      ]
     },
     "execution_count": 40,
     "metadata": {},
     "output_type": "execute_result"
    },
    {
     "data": {
      "image/png": "[encoded data removed]",
      "text/plain": [
       "<Figure size 432x288 with 1 Axes>"
      ]
     },
     "metadata": {},
     "output_type": "display_data"
    }
   ],
   "source": [
    "k = 2\n",
    "xsq = np.sum(np.random.randn(N, k) ** 2, axis = 1)\n",
    "plt.hist(xsq, bins = 20)"
   ]
  },
  {
   "cell_type": "code",
   "execution_count": 41,
   "metadata": {},
   "outputs": [
    {
     "data": {
      "text/plain": [
       "(array([2.112e+03, 2.348e+03, 1.860e+03, 1.266e+03, 8.900e+02, 5.280e+02,\n",
       "        3.540e+02, 2.720e+02, 1.430e+02, 8.000e+01, 5.400e+01, 3.700e+01,\n",
       "        2.500e+01, 1.600e+01, 6.000e+00, 3.000e+00, 2.000e+00, 3.000e+00,\n",
       "        0.000e+00, 1.000e+00]),\n",
       " array([3.33939258e-03, 1.03588520e+00, 2.06843100e+00, 3.10097680e+00,\n",
       "        4.13352261e+00, 5.16606841e+00, 6.19861421e+00, 7.23116002e+00,\n",
       "        8.26370582e+00, 9.29625162e+00, 1.03287974e+01, 1.13613432e+01,\n",
       "        1.23938890e+01, 1.34264348e+01, 1.44589806e+01, 1.54915264e+01,\n",
       "        1.65240722e+01, 1.75566181e+01, 1.85891639e+01, 1.96217097e+01,\n",
       "        2.06542555e+01]),\n",
       " <a list of 20 Patch objects>)"
      ]
     },
     "execution_count": 41,
     "metadata": {},
     "output_type": "execute_result"
    },
    {
     "data": {
      "image/png": "[encoded data removed]",
      "text/plain": [
       "<Figure size 432x288 with 1 Axes>"
      ]
     },
     "metadata": {},
     "output_type": "display_data"
    }
   ],
   "source": [
    "k = 3\n",
    "xsq = np.sum(np.random.randn(N, k) ** 2, axis = 1)\n",
    "plt.hist(xsq, bins = 20)"
   ]
  },
  {
   "cell_type": "code",
   "execution_count": 42,
   "metadata": {},
   "outputs": [
    {
     "data": {
      "text/plain": [
       "(array([1.298e+03, 2.188e+03, 1.965e+03, 1.458e+03, 1.065e+03, 7.460e+02,\n",
       "        5.060e+02, 2.810e+02, 1.940e+02, 1.270e+02, 7.100e+01, 3.900e+01,\n",
       "        3.500e+01, 1.100e+01, 8.000e+00, 4.000e+00, 2.000e+00, 1.000e+00,\n",
       "        0.000e+00, 1.000e+00]),\n",
       " array([ 0.05287847,  1.24853355,  2.44418863,  3.63984371,  4.83549879,\n",
       "         6.03115386,  7.22680894,  8.42246402,  9.6181191 , 10.81377418,\n",
       "        12.00942926, 13.20508434, 14.40073941, 15.59639449, 16.79204957,\n",
       "        17.98770465, 19.18335973, 20.37901481, 21.57466989, 22.77032496,\n",
       "        23.96598004]),\n",
       " <a list of 20 Patch objects>)"
      ]
     },
     "execution_count": 42,
     "metadata": {},
     "output_type": "execute_result"
    },
    {
     "data": {
      "image/png": "[encoded data removed]",
      "text/plain": [
       "<Figure size 432x288 with 1 Axes>"
      ]
     },
     "metadata": {},
     "output_type": "display_data"
    }
   ],
   "source": [
    "k = 4\n",
    "xsq = np.sum(np.random.randn(N, k) ** 2, axis = 1)\n",
    "plt.hist(xsq, bins = 20)"
   ]
  },
  {
   "cell_type": "markdown",
   "metadata": {},
   "source": [
    "## 適合度検定\n",
    "\n",
    "分布が理論分布に一致するか？を検定する。\n",
    "\n",
    "例えばサイコロが均等であるか検定しよう。\n",
    "理論分布は全て$1/6$である。\n",
    "\n",
    "分類\n",
    "実測値\n",
    "理論値\n",
    "\n",
    "帰無仮説は理論値に一致すること。\n",
    "\n",
    "有意水準$\\alpha$を設定する。\n",
    "\n",
    "検定統計量は\n",
    "$$\n",
    "\\chi^2 = \\sum \\frac{(\\mbox{実測値}-\\mbox{理論値})^2}{\\mbox{理論値}}\n",
    "$$\n",
    "\n",
    "これは$n$を大きくすると自由度$k-1$の$\\chi^2$分布に近づくことが知られている。\n",
    "\n",
    "これは必ず片側検定を行う。"
   ]
  },
  {
   "cell_type": "markdown",
   "metadata": {},
   "source": [
    "## 独立性検定\n",
    "\n",
    "分割表の独立性\n",
    "\n",
    "例えば男女で食べ物の好みに差があるか？をアンケートした結果から調べたいとしよう。\n",
    "\n",
    "理論値は合計から積事象の確率として計算する。\n",
    "\n",
    "これも上の式と同様の$\\chi^2$値を計算することで検定を行う。"
   ]
  },
  {
   "cell_type": "code",
   "execution_count": 43,
   "metadata": {},
   "outputs": [
    {
     "data": {
      "text/plain": [
       "(array([[1, 2, 3],\n",
       "        [2, 2, 2]]), array([[1, 1, 1],\n",
       "        [1, 1, 1]]))"
      ]
     },
     "execution_count": 43,
     "metadata": {},
     "output_type": "execute_result"
    }
   ],
   "source": [
    "f = np.vectorize(lambda x: np.unique(x, return_counts=True))\n",
    "f(np.array([[1, 2, 3], [2,2,2]]))"
   ]
  },
  {
   "cell_type": "code",
   "execution_count": 44,
   "metadata": {},
   "outputs": [],
   "source": [
    "sample = np.random.randint(1,7,(100, 10))"
   ]
  },
  {
   "cell_type": "markdown",
   "metadata": {},
   "source": [
    "検出力と効果量とサンプルサイズ"
   ]
  }
 ],
 "metadata": {
  "kernelspec": {
   "display_name": "Python 3",
   "language": "python",
   "name": "python3"
  },
  "language_info": {
   "codemirror_mode": {
    "name": "ipython",
    "version": 3
   },
   "file_extension": ".py",
   "mimetype": "text/x-python",
   "name": "python",
   "nbconvert_exporter": "python",
   "pygments_lexer": "ipython3",
   "version": "3.6.5"
  }
 },
 "nbformat": 4,
 "nbformat_minor": 2
}
