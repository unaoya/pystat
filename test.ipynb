{
 "cells": [
  {
   "cell_type": "code",
   "execution_count": 44,
   "metadata": {},
   "outputs": [
    {
     "name": "stdout",
     "output_type": "stream",
     "text": [
      "[[ 1  3  5 ...  4  7  7]\n",
      " [ 8  6  6 ...  4  4  5]\n",
      " [ 7  6  5 ...  5  2  7]\n",
      " ...\n",
      " [ 2  6  6 ...  7  5  5]\n",
      " [ 4  7  5 ...  5 11  2]\n",
      " [ 5  1  7 ...  8  6  9]]\n"
     ]
    }
   ],
   "source": [
    "#中心極限定理\n",
    "import numpy as np\n",
    "\n",
    "n = 100 #サンプルサイズ\n",
    "N = 10000 #サンプル数\n",
    "x = np.random.poisson(5, (N, n)) #poisson\n",
    "print(x)"
   ]
  },
  {
   "cell_type": "code",
   "execution_count": 45,
   "metadata": {},
   "outputs": [
    {
     "data": {
      "text/plain": [
       "array([5.03, 5.25, 4.64, ..., 4.96, 5.28, 5.19])"
      ]
     },
     "execution_count": 45,
     "metadata": {},
     "output_type": "execute_result"
    }
   ],
   "source": [
    "x_bar = np.mean(x, axis = 1)\n",
    "x_bar"
   ]
  },
  {
   "cell_type": "code",
   "execution_count": 43,
   "metadata": {},
   "outputs": [
    {
     "data": {
      "image/png": "[encoded data removed]",
      "text/plain": [
       "<Figure size 432x288 with 1 Axes>"
      ]
     },
     "metadata": {},
     "output_type": "display_data"
    }
   ],
   "source": [
    "import matplotlib.pyplot as plt\n",
    "plt.hist(x_bar)\n",
    "plt.show()"
   ]
  },
  {
   "cell_type": "markdown",
   "metadata": {},
   "source": [
    "# $t$検定\n",
    "\n",
    "## $t$分布\n",
    "\n",
    "$x_1,\\ldots,x_n$が平均$\\mu$、標準偏差$\\sigma$の正規分布に独立に従うとする。\n",
    "不偏分散\n",
    "$$\n",
    "s = \\frac{1}{n-1}\\sum_{i=1}^n(x_i-\\overline{x})^2\n",
    "$$\n",
    "とし\n",
    "$$\n",
    "t = \\frac{\\overline{x}-\\mu}{s/\\sqrt{n}}\n",
    "$$\n",
    "は$t$分布と呼ばれる確率分布に従う。（$n$が大きければ正規分布に近づく）"
   ]
  },
  {
   "cell_type": "markdown",
   "metadata": {},
   "source": [
    "## $t$の気持ち\n",
    "\n",
    "平均$\\mu$で標準偏差$\\sigma$の正規分布に従う独立なサンプル$x_1, \\ldots, x_n$の標本平均$\\bar{x}$は、また正規分布に従う。（正規分布の再生性）\n",
    "\n",
    "その平均と分散は\n",
    "$$\n",
    "E(\\bar{x})\n",
    "$$\n",
    "\n",
    "$$\n",
    "Var(\\bar{x})\n",
    "$$\n",
    "\n",
    "となる。\n",
    "\n",
    "従って、\n",
    "$$\n",
    "z = \\frac{\\overline{x}-\\mu}{\\sigma/\\sqrt{n}}\n",
    "$$\n",
    "は標準正規分布に従う。\n",
    "\n",
    "上の$t$は母標準偏差$\\sigma$を標本の標準偏差$s$に置き換えたものである。"
   ]
  },
  {
   "cell_type": "code",
   "execution_count": 46,
   "metadata": {},
   "outputs": [],
   "source": [
    "import math \n",
    "import numpy as np\n",
    "import matplotlib.pyplot as plt"
   ]
  },
  {
   "cell_type": "code",
   "execution_count": 84,
   "metadata": {},
   "outputs": [],
   "source": [
    "n = 10 #サンプルサイズ\n",
    "mu = 0 #母平均\n",
    "sigma = 1 #母標準偏差\n",
    "\n",
    "N = 1000000 #サンプル数\n",
    "\n",
    "sample = np.random.randn(N, n)\n",
    "x_bar = np.mean(sample, axis = 1)\n",
    "s = np.sqrt(np.sum((sample - x_bar.reshape(N,1)) ** 2, axis = 1) / (n - 1))\n",
    "t = (x_bar - mu) / (s / math.sqrt(n))"
   ]
  },
  {
   "cell_type": "code",
   "execution_count": 85,
   "metadata": {},
   "outputs": [
    {
     "data": {
      "image/png": "[encoded data removed]",
      "text/plain": [
       "<Figure size 432x288 with 1 Axes>"
      ]
     },
     "metadata": {},
     "output_type": "display_data"
    }
   ],
   "source": [
    "# https://matplotlib.org/gallery/statistics/histogram_features.html\n",
    "fig, ax = plt.subplots()\n",
    "\n",
    "num_bins = 100\n",
    "\n",
    "# the histogram of the data\n",
    "n, bins, patches = ax.hist(t, num_bins, density=1)\n",
    "\n",
    "# add a 'best fit' line\n",
    "y = ((1 / (np.sqrt(2 * np.pi) * sigma) *\n",
    "     np.exp(-0.5 * (1 / sigma * (bins - mu))**2)))\n",
    "ax.plot(bins, y, '--')\n",
    "\n",
    "#fig.tight_layout()\n",
    "plt.show()"
   ]
  },
  {
   "cell_type": "markdown",
   "metadata": {},
   "source": [
    "## 検定の考え方\n",
    "\n",
    "帰無仮説を仮定する。\n",
    "帰無仮説の下で、ある統計検定量はある確率分布に従うことがわかっている。\n",
    "\n",
    "この量がある確率より低い確率でしか起こり得ない値になるとすると、帰無仮説の妥当性が低いと判断できる。"
   ]
  },
  {
   "cell_type": "markdown",
   "metadata": {},
   "source": [
    "## t検定の考え方\n",
    "\n",
    "データ$x_1, \\ldots, x_n$が与えられたとき、その母平均が$0$であるかどうかを知りたいとしよう。\n",
    "\n",
    "このデータが正規分布から独立に発生していると仮定する。\n",
    "すると、上の式で計算した$t$の値は$t$分布に従っているはずである。\n",
    "\n",
    "これを計算することで、確率的に判断を下そうというのが仮説検定の考え方。"
   ]
  },
  {
   "cell_type": "markdown",
   "metadata": {},
   "source": [
    "## 手順\n",
    "\n",
    "まず有意水準$\\alpha$を決める。\n",
    "多くは$\\alpha = 0.05$だが、$0.01$や$0.1$も使われる。\n",
    "\n",
    "あとで述べるように、これが検定で誤った結論を導く確率が決まる。\n",
    "\n",
    "帰無仮説$H_0:\\mu = \\mu_0$\n",
    "\n",
    "対立仮説の設定によって、両側検定と片側検定がある。\n",
    "両側検定の対立仮説$H_1:\\mu \\neq \\mu_0$\n",
    "片側検定の対立仮説$H_1:\\mu < \\mu_0$または$\\mu > \\mu_0$\n",
    "\n",
    "与えられた標本を元に、$t$統計量を計算する。\n",
    "\n",
    "$t$分布に従って$p$値を計算する。\n",
    "$t_\\alpha$を両側検定なら$P(\\lvert t\\rvert>t_\\alpha)=0.05$とし、片側検定なら$P(t<t_\\alpha)=0.05$または$P(t>t_\\alpha)=0.05$となるよう定める。\n",
    "$p$が$\\alpha$より小さければ帰無仮説棄却、そうでなければ対立仮説棄却。"
   ]
  },
  {
   "cell_type": "markdown",
   "metadata": {},
   "source": [
    "## 第1種の誤りと第2種の誤り\n",
    "\n",
    "第1種の誤りとは、帰無仮説$H_0$が正しいのに対立仮説$H_1$を採用してしまう誤りのこと。\n",
    "これが起こる確率は有意水準と一致する。\n",
    "\n",
    "第2種の誤りとは、対立仮説$H_1$が正しいのに帰無仮説$H_0$を採用してしまう誤りのこと。\n",
    "これが起こる確率を検出力という。"
   ]
  },
  {
   "cell_type": "markdown",
   "metadata": {},
   "source": [
    "二群の母平均の比較\n",
    "\n",
    "二群に対応がある場合と対応がない場合。\n",
    "\n",
    "対応がない場合に、二群の分散が等しい場合と等しくない場合で若干計算が異なる。"
   ]
  },
  {
   "cell_type": "markdown",
   "metadata": {},
   "source": [
    "irisデータで種類毎の母平均の比較を行おう。\n",
    "\n",
    "まずはデータの可視化から。\n",
    "正規性などの確認。"
   ]
  },
  {
   "cell_type": "code",
   "execution_count": 59,
   "metadata": {},
   "outputs": [],
   "source": [
    "from sklearn.datasets import load_iris\n",
    "data = load_iris()\n",
    "\n",
    "x = data.data[data.target == 0,0]\n",
    "y = data.data[data.target == 1,0]"
   ]
  },
  {
   "cell_type": "code",
   "execution_count": 61,
   "metadata": {},
   "outputs": [
    {
     "data": {
      "image/png": "[encoded data removed]",
      "text/plain": [
       "<Figure size 432x288 with 1 Axes>"
      ]
     },
     "metadata": {},
     "output_type": "display_data"
    }
   ],
   "source": [
    "plt.hist(x)\n",
    "plt.show()"
   ]
  },
  {
   "cell_type": "code",
   "execution_count": 62,
   "metadata": {},
   "outputs": [
    {
     "data": {
      "image/png": "[encoded data removed]",
      "text/plain": [
       "<Figure size 432x288 with 1 Axes>"
      ]
     },
     "metadata": {},
     "output_type": "display_data"
    }
   ],
   "source": [
    "plt.hist(y)\n",
    "plt.show()"
   ]
  },
  {
   "cell_type": "code",
   "execution_count": 64,
   "metadata": {},
   "outputs": [
    {
     "name": "stdout",
     "output_type": "stream",
     "text": [
      "-10.6278010493636\n"
     ]
    }
   ],
   "source": [
    "s1, s2 = np.std(x), np.std(y)\n",
    "t = (np.mean(x) - np.mean(y))/np.sqrt(s1**2/50 + s2**2/50)\n",
    "print(t)"
   ]
  },
  {
   "cell_type": "markdown",
   "metadata": {},
   "source": [
    "実際には多クラス間の母平均の比較検定は行なってはいけない。\n",
    "代わりに分散分析や多重比較という手法を用いる。"
   ]
  },
  {
   "cell_type": "markdown",
   "metadata": {},
   "source": [
    "## $\\chi^2$検定"
   ]
  },
  {
   "cell_type": "markdown",
   "metadata": {},
   "source": [
    "自由度1の$\\chi^2$分布。\n",
    "標準正規分布に従う変数$X$について、$X^2$が従う分布"
   ]
  },
  {
   "cell_type": "code",
   "execution_count": 23,
   "metadata": {},
   "outputs": [],
   "source": [
    "N = 10000"
   ]
  },
  {
   "cell_type": "code",
   "execution_count": 86,
   "metadata": {},
   "outputs": [
    {
     "data": {
      "text/plain": [
       "array([[ 0.75405844],\n",
       "       [-0.22773125],\n",
       "       [-0.48118089],\n",
       "       ...,\n",
       "       [-0.71486711],\n",
       "       [ 1.73808483],\n",
       "       [ 0.59187239]])"
      ]
     },
     "execution_count": 86,
     "metadata": {},
     "output_type": "execute_result"
    }
   ],
   "source": [
    "k = 1\n",
    "sample = np.random.randn(N, k)\n",
    "sample"
   ]
  },
  {
   "cell_type": "code",
   "execution_count": 87,
   "metadata": {},
   "outputs": [
    {
     "data": {
      "text/plain": [
       "array([0.56860413, 0.05186152, 0.23153504, ..., 0.51103499, 3.02093889,\n",
       "       0.35031292])"
      ]
     },
     "execution_count": 87,
     "metadata": {},
     "output_type": "execute_result"
    }
   ],
   "source": [
    "xsq = np.sum(sample ** 2, axis = 1)\n",
    "xsq"
   ]
  },
  {
   "cell_type": "code",
   "execution_count": 88,
   "metadata": {},
   "outputs": [
    {
     "data": {
      "text/plain": [
       "(array([7.04979e+05, 1.57169e+05, 6.83670e+04, 3.32190e+04, 1.70990e+04,\n",
       "        8.84900e+03, 4.79900e+03, 2.52400e+03, 1.33800e+03, 7.39000e+02,\n",
       "        4.08000e+02, 2.24000e+02, 1.09000e+02, 8.60000e+01, 4.10000e+01,\n",
       "        2.20000e+01, 1.60000e+01, 4.00000e+00, 3.00000e+00, 5.00000e+00]),\n",
       " array([9.73529144e-14, 1.10037585e+00, 2.20075170e+00, 3.30112755e+00,\n",
       "        4.40150341e+00, 5.50187926e+00, 6.60225511e+00, 7.70263096e+00,\n",
       "        8.80300681e+00, 9.90338266e+00, 1.10037585e+01, 1.21041344e+01,\n",
       "        1.32045102e+01, 1.43048861e+01, 1.54052619e+01, 1.65056378e+01,\n",
       "        1.76060136e+01, 1.87063895e+01, 1.98067653e+01, 2.09071412e+01,\n",
       "        2.20075170e+01]),\n",
       " <a list of 20 Patch objects>)"
      ]
     },
     "execution_count": 88,
     "metadata": {},
     "output_type": "execute_result"
    },
    {
     "data": {
      "image/png": "[encoded data removed]",
      "text/plain": [
       "<Figure size 432x288 with 1 Axes>"
      ]
     },
     "metadata": {},
     "output_type": "display_data"
    }
   ],
   "source": [
    "plt.hist(xsq, bins = 20)"
   ]
  },
  {
   "cell_type": "code",
   "execution_count": 91,
   "metadata": {},
   "outputs": [
    {
     "data": {
      "image/png": "[encoded data removed]",
      "text/plain": [
       "<Figure size 432x288 with 1 Axes>"
      ]
     },
     "metadata": {},
     "output_type": "display_data"
    }
   ],
   "source": [
    "k = 2\n",
    "xsq = np.sum(np.random.randn(N, k) ** 2, axis = 1)\n",
    "plt.hist(xsq, bins = 100)\n",
    "plt.show()"
   ]
  },
  {
   "cell_type": "code",
   "execution_count": 92,
   "metadata": {},
   "outputs": [
    {
     "data": {
      "image/png": "[encoded data removed]",
      "text/plain": [
       "<Figure size 432x288 with 1 Axes>"
      ]
     },
     "metadata": {},
     "output_type": "display_data"
    }
   ],
   "source": [
    "k = 3\n",
    "xsq = np.sum(np.random.randn(N, k) ** 2, axis = 1)\n",
    "plt.hist(xsq, bins = 100)\n",
    "plt.show()"
   ]
  },
  {
   "cell_type": "code",
   "execution_count": 94,
   "metadata": {},
   "outputs": [
    {
     "data": {
      "image/png": "[encoded data removed]",
      "text/plain": [
       "<Figure size 432x288 with 1 Axes>"
      ]
     },
     "metadata": {},
     "output_type": "display_data"
    }
   ],
   "source": [
    "k = 4\n",
    "xsq = np.sum(np.random.randn(N, k) ** 2, axis = 1)\n",
    "plt.hist(xsq, bins = 100)\n",
    "plt.show()"
   ]
  },
  {
   "cell_type": "markdown",
   "metadata": {},
   "source": [
    "## 適合度検定\n",
    "\n",
    "分布が理論分布に一致するか？を検定する。\n",
    "\n",
    "例えばサイコロが均等であるか検定しよう。\n",
    "理論分布は全て$1/6$である。\n",
    "\n",
    "分類\n",
    "実測値\n",
    "理論値\n",
    "\n",
    "帰無仮説は理論値に一致すること。\n",
    "\n",
    "有意水準$\\alpha$を設定する。\n",
    "\n",
    "検定統計量は\n",
    "$$\n",
    "\\chi^2 = \\sum \\frac{(\\mbox{実測値}-\\mbox{理論値})^2}{\\mbox{理論値}}\n",
    "$$\n",
    "\n",
    "これは$n$を大きくすると自由度$k-1$の$\\chi^2$分布に近づくことが知られている。\n",
    "\n",
    "これは必ず片側検定を行う。"
   ]
  },
  {
   "cell_type": "markdown",
   "metadata": {},
   "source": [
    "## 独立性検定\n",
    "\n",
    "分割表の独立性\n",
    "\n",
    "例えば男女で食べ物の好みに差があるか？をアンケートした結果から調べたいとしよう。\n",
    "\n",
    "理論値は合計から積事象の確率として計算する。\n",
    "\n",
    "これも上の式と同様の$\\chi^2$値を計算することで検定を行う。"
   ]
  },
  {
   "cell_type": "code",
   "execution_count": 43,
   "metadata": {},
   "outputs": [
    {
     "data": {
      "text/plain": [
       "(array([[1, 2, 3],\n",
       "        [2, 2, 2]]), array([[1, 1, 1],\n",
       "        [1, 1, 1]]))"
      ]
     },
     "execution_count": 43,
     "metadata": {},
     "output_type": "execute_result"
    }
   ],
   "source": [
    "f = np.vectorize(lambda x: np.unique(x, return_counts=True))\n",
    "f(np.array([[1, 2, 3], [2,2,2]]))"
   ]
  },
  {
   "cell_type": "code",
   "execution_count": 44,
   "metadata": {},
   "outputs": [],
   "source": [
    "sample = np.random.randint(1,7,(100, 10))"
   ]
  },
  {
   "cell_type": "markdown",
   "metadata": {},
   "source": [
    "検出力と効果量とサンプルサイズ"
   ]
  }
 ],
 "metadata": {
  "kernelspec": {
   "display_name": "Python 3",
   "language": "python",
   "name": "python3"
  },
  "language_info": {
   "codemirror_mode": {
    "name": "ipython",
    "version": 3
   },
   "file_extension": ".py",
   "mimetype": "text/x-python",
   "name": "python",
   "nbconvert_exporter": "python",
   "pygments_lexer": "ipython3",
   "version": "3.6.5"
  }
 },
 "nbformat": 4,
 "nbformat_minor": 2
}
